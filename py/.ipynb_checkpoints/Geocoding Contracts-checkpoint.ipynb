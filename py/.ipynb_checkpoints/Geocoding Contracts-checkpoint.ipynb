{
 "cells": [
  {
   "cell_type": "code",
   "execution_count": null,
   "id": "1dab6419",
   "metadata": {},
   "outputs": [],
   "source": [
    "from IPython.display import display, HTML\n",
    "display(HTML(\"<style>.container { width:90% !important; }</style>\"))\n",
    "import pandas as pd\n",
    "import numpy as np\n",
    "import mapclassify\n",
    "import requests\n",
    "from geopy.geocoders import Nominatim\n",
    "from geopy.extra.rate_limiter import RateLimiter\n",
    "\n",
    "pd.set_option('display.max_columns', None)\n",
    "pd.set_option('display.max_rows', None)\n",
    "\n",
    "import warnings\n",
    "warnings.filterwarnings(\"ignore\")"
   ]
  },
  {
   "cell_type": "code",
   "execution_count": null,
   "id": "a8b38caf",
   "metadata": {
    "scrolled": true
   },
   "outputs": [],
   "source": [
    "df = pd.read_csv('/Users/alia/Documents/Github/DoDContractApp/Raw Data/Service Contracts/FY2022.csv')\n",
    "df.head()"
   ]
  },
  {
   "cell_type": "code",
   "execution_count": null,
   "id": "03b4fde6",
   "metadata": {},
   "outputs": [],
   "source": [
    "# Keep only columns of interest\n",
    "df = df[['contract_award_unique_key',\n",
    "         'total_obligated_amount',\n",
    "         'award_base_action_date',\n",
    "         'awarding_agency_code',\n",
    "         'awarding_agency_name',\n",
    "         'awarding_sub_agency_code',\n",
    "         'awarding_sub_agency_name',\n",
    "         'awarding_office_code',\n",
    "         'awarding_office_name',\n",
    "         'funding_agency_code',\n",
    "         'funding_agency_name',\n",
    "         'funding_sub_agency_code',\n",
    "         'funding_sub_agency_name',\n",
    "         'funding_office_code',\n",
    "         'funding_office_name',\n",
    "         'recipient_name',\n",
    "         'primary_place_of_performance_city_name',\n",
    "         'primary_place_of_performance_state_code',\n",
    "         'primary_place_of_performance_state_name',\n",
    "         'primary_place_of_performance_zip_4',\n",
    "         'product_or_service_code',\n",
    "         'product_or_service_code_description',\n",
    "         'dod_claimant_program_code',\n",
    "         'dod_claimant_program_description',\n",
    "         'naics_code',\n",
    "         'naics_description',\n",
    "         'last_modified_date']]"
   ]
  },
  {
   "cell_type": "code",
   "execution_count": null,
   "id": "52845a89",
   "metadata": {},
   "outputs": [],
   "source": [
    "# Drop rows where city and zip code for place of performance are blank\n",
    "df = df.dropna(subset=['primary_place_of_performance_city_name', 'primary_place_of_performance_zip_4'])\n",
    "\n",
    "# Convert zip code to string\n",
    "df['primary_place_of_performance_zip_4'] = df['primary_place_of_performance_zip_4'].astype(int)\n",
    "df['primary_place_of_performance_zip_4'] = df['primary_place_of_performance_zip_4'].astype(str)\n",
    "\n",
    "# Create a full address string for place of performance (POP) and then drop columns of individual address components\n",
    "df['geopy_pop']= df['primary_place_of_performance_city_name'] + ', ' + df['primary_place_of_performance_state_code'] + ' ' + (df['primary_place_of_performance_zip_4'].str[:5])\n",
    "df = df.drop(columns =['primary_place_of_performance_city_name',\n",
    "                       'primary_place_of_performance_state_code',\n",
    "                       'primary_place_of_performance_state_name',\n",
    "                       'primary_place_of_performance_zip_4'])\n",
    "\n",
    "# Manually edit abbreviations in addresses based on a manual inspection\n",
    "df['geopy_pop'] = df['geopy_pop'].str.replace('AFB','AIR FORCE BASE')\n",
    "df['geopy_pop'] = df['geopy_pop'].str.replace('M C B H KANEOHE BAY','MARINE CORPS BASE HAWAII')\n",
    "df['geopy_pop'] = df['geopy_pop'].str.replace('JBSA','JOINT BASE SAN ANTONIO')\n",
    "df['geopy_pop'] = df['geopy_pop'].str.replace(' FT ',' FORT ')\n",
    "df['geopy_pop'] = df['geopy_pop'].str.replace('JBPHH','JOINT BASE PEARL HARBOR-HICKAM')"
   ]
  },
  {
   "cell_type": "code",
   "execution_count": null,
   "id": "d045ddef",
   "metadata": {},
   "outputs": [],
   "source": [
    "def lat_long(address):\n",
    "    \"\"\"This function returns the latitude and longitude coordinates for an address string, and returns a blank if the location is not found. \n",
    "    There is a 2 second delay for rate limiting.\n",
    "    Input: Address (string)\n",
    "    Output: Coordinates (tuple)\n",
    "    \"\"\"\n",
    "    # Instantiate the geolocator and geocode objects\n",
    "    geolocator = Nominatim(user_agent=\"aliakader\",timeout=5)\n",
    "    geocode = RateLimiter(geolocator.geocode, min_delay_seconds=2)\n",
    "    \n",
    "    # Find the location of an address string\n",
    "    location = geocode(address)\n",
    "    \n",
    "    # If location is found, return (lat,long), else return a blank\n",
    "    if location is not None:\n",
    "        return location.latitude, location.longitude\n",
    "    else:\n",
    "        return ''"
   ]
  },
  {
   "cell_type": "code",
   "execution_count": null,
   "id": "5a0a43fe",
   "metadata": {},
   "outputs": [],
   "source": [
    "# Store POP addresses in a list\n",
    "addresses = df['geopy_pop'].tolist()\n",
    "unique_addresses = list(set(addresses))"
   ]
  },
  {
   "cell_type": "code",
   "execution_count": null,
   "id": "4ee255ce",
   "metadata": {},
   "outputs": [],
   "source": [
    "# Create an empty list to store coordinates\n",
    "coords = []"
   ]
  },
  {
   "cell_type": "code",
   "execution_count": null,
   "id": "8e55109a",
   "metadata": {},
   "outputs": [],
   "source": [
    "# Use lat_long function to generate coordinates for all addresses (this takes a few hours)\n",
    "for address in unique_addresses:\n",
    "    coord = lat_long(address)\n",
    "    print(coord)\n",
    "    coords.append(coord)"
   ]
  },
  {
   "cell_type": "code",
   "execution_count": null,
   "id": "a50baa5f",
   "metadata": {},
   "outputs": [],
   "source": [
    "# Add coordinates to df as new column\n",
    "address_coords = pd.DataFrame()\n",
    "address_coords['Address'] = unique_addresses\n",
    "address_coords['Coordinates'] = coords\n",
    "\n",
    "# Save df as CSV to avoid running lat_long function again\n",
    "address_coords.to_csv('/Users/alia/Documents/Github/DoDContractApp/Clean Data/address_coordinates.csv',index=False)"
   ]
  },
  {
   "cell_type": "code",
   "execution_count": null,
   "id": "107f6ca9",
   "metadata": {},
   "outputs": [],
   "source": [
    "df = df.rename({'geopy_pop':'Address'}, axis=1)\n",
    "df = df.merge(address_coords,how='left',on='Address')\n",
    "df = df.drop(columns='Address')\n",
    "df['lat'], df['long'] = df.Coordinates.str\n",
    "df = df.drop(columns='Coordinates')\n",
    "dat.to_csv('/Users/alia/Documents/Github/DoDContractApp/Clean Data/data_coords.csv')"
   ]
  }
 ],
 "metadata": {
  "kernelspec": {
   "display_name": "Python 3 (ipykernel)",
   "language": "python",
   "name": "python3"
  },
  "language_info": {
   "codemirror_mode": {
    "name": "ipython",
    "version": 3
   },
   "file_extension": ".py",
   "mimetype": "text/x-python",
   "name": "python",
   "nbconvert_exporter": "python",
   "pygments_lexer": "ipython3",
   "version": "3.9.5"
  },
  "varInspector": {
   "cols": {
    "lenName": 16,
    "lenType": 16,
    "lenVar": 40
   },
   "kernels_config": {
    "python": {
     "delete_cmd_postfix": "",
     "delete_cmd_prefix": "del ",
     "library": "var_list.py",
     "varRefreshCmd": "print(var_dic_list())"
    },
    "r": {
     "delete_cmd_postfix": ") ",
     "delete_cmd_prefix": "rm(",
     "library": "var_list.r",
     "varRefreshCmd": "cat(var_dic_list()) "
    }
   },
   "types_to_exclude": [
    "module",
    "function",
    "builtin_function_or_method",
    "instance",
    "_Feature"
   ],
   "window_display": false
  }
 },
 "nbformat": 4,
 "nbformat_minor": 5
}
