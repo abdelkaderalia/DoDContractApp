{
 "cells": [
  {
   "cell_type": "code",
   "execution_count": 1,
   "id": "d0e2e33b",
   "metadata": {},
   "outputs": [
    {
     "data": {
      "text/html": [
       "<style>.container { width:90% !important; }</style>"
      ],
      "text/plain": [
       "<IPython.core.display.HTML object>"
      ]
     },
     "metadata": {},
     "output_type": "display_data"
    }
   ],
   "source": [
    "import pandas as pd\n",
    "import numpy as np\n",
    "import sys\n",
    "import os\n",
    "from IPython.display import display, HTML\n",
    "display(HTML(\"<style>.container { width:90% !important; }</style>\"))\n",
    "import geopandas as gpd\n",
    "\n",
    "pd.set_option('display.max_columns', None)\n",
    "pd.set_option('display.max_rows', None)\n",
    "\n",
    "import warnings\n",
    "warnings.filterwarnings(\"ignore\")"
   ]
  },
  {
   "cell_type": "code",
   "execution_count": null,
   "id": "6a190c34",
   "metadata": {},
   "outputs": [],
   "source": [
    "# Set the directory containing all raw data\n",
    "rootDir = '/Users/alia/Documents/Github/DoDContractApp/Raw Data/Service Contracts'\n",
    "\n",
    "# Loop through subfolders in directory\n",
    "for dirName, subdirList, fileList in os.walk(rootDir):\n",
    "    print('Found directory: %s' % dirName)\n",
    "    \n",
    "    # If there are files in the folder\n",
    "    if len(fileList)>0:\n",
    "        \n",
    "        for fname in fileList:\n",
    "            if fname.endswith('.csv'): \n",
    "                print('\\t%s' % fname)\n",
    "                filepath = f'{dirName}/{fname}'\n",
    "                df = pd.read_csv(filepath)\n",
    "                df = df[['contract_award_unique_key',\n",
    "                         'total_obligated_amount',\n",
    "                         'award_base_action_date',\n",
    "                         'awarding_agency_name',\n",
    "                         'awarding_sub_agency_name',\n",
    "                         'awarding_office_name',\n",
    "                         'recipient_name',\n",
    "                         'primary_place_of_performance_state_code',\n",
    "                         'product_or_service_code_description',\n",
    "                         'dod_claimant_program_description',\n",
    "                         'type_of_contract_pricing',\n",
    "                         'award_type',\n",
    "                         'contract_bundling',\n",
    "                         'solicitation_procedures',\n",
    "                         'naics_code',\n",
    "                         'naics_description',\n",
    "                         'last_modified_date']]\n",
    "        \n",
    "                df.to_csv(f'/Users/alia/Documents/Github/DoDContractApp/Clean Data/Service Contracts/{fname}',index=False)"
   ]
  },
  {
   "cell_type": "code",
   "execution_count": null,
   "id": "9553a849",
   "metadata": {},
   "outputs": [],
   "source": [
    "# Set the directory containing all raw data\n",
    "rootDir = '/Users/alia/Documents/Github/DoDContractApp/Clean Data/Service Contracts'\n",
    "\n",
    "# Loop through subfolders in directory\n",
    "for dirName, subdirList, fileList in os.walk(rootDir):\n",
    "    print('Found directory: %s' % dirName)\n",
    "    \n",
    "    # If there are files in the folder\n",
    "    if len(fileList)>0:\n",
    "        \n",
    "        col_list = ['awarding_sub_agency_name',\n",
    "                    'awarding_office_name',\n",
    "                    'recipient_name',\n",
    "                    'primary_place_of_performance_state_code',\n",
    "                    'product_or_service_code_description',\n",
    "                    'dod_claimant_program_description',\n",
    "                    'type_of_contract_pricing',\n",
    "                    'award_type',\n",
    "                    'contract_bundling',\n",
    "                    'solicitation_procedures',\n",
    "                    'naics_description']\n",
    "        \n",
    "        for col in col_list:\n",
    "            print(col)\n",
    "            \n",
    "            # Create empty dataframe\n",
    "            df = pd.DataFrame()\n",
    "        \n",
    "            for fname in fileList:\n",
    "\n",
    "                if fname.endswith('.csv'): \n",
    "                    print('\\t%s' % fname)\n",
    "                    filepath = f'{dirName}/{fname}'\n",
    "                    dat = pd.read_csv(filepath)\n",
    "\n",
    "                    sub = dat.groupby([col])[['total_obligated_amount']].sum()\n",
    "                    sub.reset_index(inplace=True)\n",
    "                    sub = sub.sort_values('total_obligated_amount',ascending=False)\n",
    "                    sub = sub.reset_index(drop=True)\n",
    "                    yr = int(fname[2:6])\n",
    "                    sub['fiscal_year']=yr\n",
    "\n",
    "                    if len(sub)>10 and col!='primary_place_of_performance_state_code':\n",
    "                        # Add together groups with smaller total obligations as \"Other\"\n",
    "                        other = sub[11:]\n",
    "                        other_sum = other['total_obligated_amount'].sum()\n",
    "\n",
    "                        sub = sub[:10]\n",
    "                        sub.loc[len(sub)] = ['OTHER',other_sum,yr]\n",
    "                        sub = sub.sort_values('total_obligated_amount',ascending=True)\n",
    "                        sub = sub.reset_index(drop=True)\n",
    "\n",
    "                    df = df.append(sub)\n",
    "\n",
    "            df.to_csv(f'/Users/alia/Documents/Github/DoDContractApp/Clean Data/Plot Data/{col}.csv',index=False)"
   ]
  },
  {
   "cell_type": "code",
   "execution_count": null,
   "id": "c64200ca",
   "metadata": {},
   "outputs": [],
   "source": [
    "# Set the directory containing all raw data\n",
    "rootDir = '/Users/alia/Desktop/Service Contracts Clean'\n",
    "\n",
    "# Loop through subfolders in directory\n",
    "for dirName, subdirList, fileList in os.walk(rootDir):\n",
    "    print('Found directory: %s' % dirName)\n",
    "    \n",
    "    # If there are files in the folder\n",
    "    if len(fileList)>0:\n",
    "        \n",
    "        col_list = ['awarding_sub_agency_name',\n",
    "                    'awarding_office_name',\n",
    "                    'recipient_name']\n",
    "        \n",
    "        for col in col_list:\n",
    "            print(col)\n",
    "            \n",
    "            # Create empty dataframe\n",
    "            df = pd.DataFrame()\n",
    "        \n",
    "            for fname in fileList:\n",
    "\n",
    "                if fname.endswith('.csv'): \n",
    "                    print('\\t%s' % fname)\n",
    "                    filepath = f'{dirName}/{fname}'\n",
    "                    dat = pd.read_csv(filepath)\n",
    "\n",
    "                    sub = pd.DataFrame({'count' : dat.groupby([col]).size()}).reset_index()\n",
    "                    sub = sub.sort_values('count',ascending=False)\n",
    "                    sub = sub.reset_index(drop=True)\n",
    "                    yr = int(fname[2:6])\n",
    "                    sub['fiscal_year']=yr\n",
    "\n",
    "                    if len(sub)>10:\n",
    "                        # Add together groups with smaller total obligations as \"Other\"\n",
    "                        other = sub[11:]\n",
    "                        other_sum = other['count'].sum()\n",
    "\n",
    "                        sub = sub[:10]\n",
    "                        sub.loc[len(sub)] = ['OTHER',other_sum,yr]\n",
    "                        sub = sub.sort_values('count',ascending=True)\n",
    "                        sub = sub.reset_index(drop=True)\n",
    "\n",
    "                    df = df.append(sub)\n",
    "\n",
    "            df.to_csv(f'/Users/alia/Documents/Github/DoDContractApp/Clean Data/Plot Data/{col}_count.csv',index=False)"
   ]
  }
 ],
 "metadata": {
  "kernelspec": {
   "display_name": "Python 3 (ipykernel)",
   "language": "python",
   "name": "python3"
  },
  "language_info": {
   "codemirror_mode": {
    "name": "ipython",
    "version": 3
   },
   "file_extension": ".py",
   "mimetype": "text/x-python",
   "name": "python",
   "nbconvert_exporter": "python",
   "pygments_lexer": "ipython3",
   "version": "3.9.5"
  },
  "varInspector": {
   "cols": {
    "lenName": 16,
    "lenType": 16,
    "lenVar": 40
   },
   "kernels_config": {
    "python": {
     "delete_cmd_postfix": "",
     "delete_cmd_prefix": "del ",
     "library": "var_list.py",
     "varRefreshCmd": "print(var_dic_list())"
    },
    "r": {
     "delete_cmd_postfix": ") ",
     "delete_cmd_prefix": "rm(",
     "library": "var_list.r",
     "varRefreshCmd": "cat(var_dic_list()) "
    }
   },
   "types_to_exclude": [
    "module",
    "function",
    "builtin_function_or_method",
    "instance",
    "_Feature"
   ],
   "window_display": false
  }
 },
 "nbformat": 4,
 "nbformat_minor": 5
}
